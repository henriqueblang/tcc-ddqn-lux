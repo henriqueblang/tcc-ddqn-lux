{
 "cells": [
  {
   "cell_type": "markdown",
   "id": "b647c393",
   "metadata": {},
   "source": [
    "### Imports"
   ]
  },
  {
   "cell_type": "code",
   "execution_count": 1,
   "id": "1ead4122",
   "metadata": {},
   "outputs": [
    {
     "name": "stdout",
     "output_type": "stream",
     "text": [
      "Loading environment football failed: No module named 'gfootball'\n"
     ]
    }
   ],
   "source": [
    "from kaggle_environments import evaluate"
   ]
  },
  {
   "cell_type": "markdown",
   "id": "c770b946",
   "metadata": {},
   "source": [
    "### Agent Files"
   ]
  },
  {
   "cell_type": "code",
   "execution_count": 6,
   "id": "aaf52348",
   "metadata": {},
   "outputs": [],
   "source": [
    "AGENT_A = \"final_agent_ddqn.py\"\n",
    "AGENT_B = \"final_agent_ddqn.py\""
   ]
  },
  {
   "cell_type": "markdown",
   "id": "46c025a4",
   "metadata": {},
   "source": [
    "### Config Running"
   ]
  },
  {
   "cell_type": "code",
   "execution_count": null,
   "id": "d53a2630",
   "metadata": {},
   "outputs": [],
   "source": [
    "from time import time\n",
    "\n",
    "environment = \"lux_ai_2021\"\n",
    "configuration = {\"width\": 12, \"height\": 12}\n",
    "steps = []\n",
    "\n",
    "agents = [AGENT_A, AGENT_B]\n",
    "\n",
    "num_episodes = 10000\n",
    "\n",
    "start = time()\n",
    "rewards = evaluate(environment, agents, configuration, steps, num_episodes)\n",
    "end = time()\n",
    "\n",
    "print(\"Elapsed time:\", end - start)"
   ]
  },
  {
   "cell_type": "code",
   "execution_count": 8,
   "id": "aff87445",
   "metadata": {},
   "outputs": [
    {
     "data": {
      "text/plain": [
       "[[1, 1], [1, 1], [1, 0]]"
      ]
     },
     "execution_count": 8,
     "metadata": {},
     "output_type": "execute_result"
    }
   ],
   "source": [
    "rewards"
   ]
  },
  {
   "cell_type": "code",
   "execution_count": 9,
   "id": "45598cae",
   "metadata": {},
   "outputs": [],
   "source": [
    "wins_agent_a = 0\n",
    "wins_agent_b = 0\n",
    "draws = 0\n",
    "\n",
    "for game in rewards:\n",
    "    wins_agent_a += game[0] > game[1]\n",
    "    wins_agent_b += game[1] > game[0]\n",
    "    draws += game[0] == game[1]"
   ]
  },
  {
   "cell_type": "code",
   "execution_count": 10,
   "id": "aaaf37d6",
   "metadata": {},
   "outputs": [
    {
     "name": "stdout",
     "output_type": "stream",
     "text": [
      "===== Final Results ====\n",
      "\n",
      "Agent A: 1\n",
      "Agent B: 0\n",
      "Draws: 2\n",
      "\n",
      "========================\n"
     ]
    }
   ],
   "source": [
    "print(\"===== Final Results ====\\n\")\n",
    "\n",
    "print(\"Agent A:\", wins_agent_a)\n",
    "print(\"Agent B:\", wins_agent_b)\n",
    "print(\"Draws:\", draws)\n",
    "\n",
    "print(\"\\n========================\")"
   ]
  },
  {
   "cell_type": "code",
   "execution_count": 11,
   "id": "e9271b66",
   "metadata": {},
   "outputs": [
    {
     "name": "stdout",
     "output_type": "stream",
     "text": [
      "===== Final Scores ====\n",
      "\n",
      "Agent A: 66.66666666666666\n",
      "Agent B: 33.33333333333333\n",
      "\n",
      "=====================\n"
     ]
    }
   ],
   "source": [
    "total_score_agent_a = (wins_agent_a + draws / 2) / (num_episodes) * 100\n",
    "total_score_agent_b = (wins_agent_b + draws / 2) / (num_episodes) * 100\n",
    "\n",
    "print(\"===== Final Scores ====\\n\")\n",
    "\n",
    "print(\"Agent A:\", total_score_agent_a)\n",
    "print(\"Agent B:\", total_score_agent_b)\n",
    "\n",
    "print(\"\\n=====================\")"
   ]
  },
  {
   "cell_type": "code",
   "execution_count": null,
   "id": "a0f0be3f",
   "metadata": {},
   "outputs": [],
   "source": [
    "map_sizes = [12]\n",
    "\n",
    "total_score = 0\n",
    "\n",
    "for map_size in map_sizes:\n",
    "    logfile_name = f\"logs-{map_size}.txt\"\n",
    "\n",
    "    with open(logfile_name) as f:\n",
    "        data_string = f.read()\n",
    "        wins = data_string.count(wins_template)\n",
    "        draw = data_string.count(draw_template)\n",
    "        lose = data_string.count(lose_template)\n",
    "        score = (wins + draw / 2)/(wins + lose + draw)*100\n",
    "        total_score += score/len(map_sizes)\n",
    "        \n",
    "        print(f\"Map size: {map_size}, Score: {score:.3f}, Stats: {wins}/{draw}/{lose}\")\n",
    "        \n",
    "print(f\"Total score: {total_score:.3f}\")"
   ]
  }
 ],
 "metadata": {
  "kernelspec": {
   "display_name": "Python 3 (ipykernel)",
   "language": "python",
   "name": "python3"
  },
  "language_info": {
   "codemirror_mode": {
    "name": "ipython",
    "version": 3
   },
   "file_extension": ".py",
   "mimetype": "text/x-python",
   "name": "python",
   "nbconvert_exporter": "python",
   "pygments_lexer": "ipython3",
   "version": "3.8.12"
  }
 },
 "nbformat": 4,
 "nbformat_minor": 5
}
